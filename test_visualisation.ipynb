{
 "cells": [
  {
   "cell_type": "code",
   "execution_count": 10,
   "metadata": {},
   "outputs": [],
   "source": [
    "import numpy as np"
   ]
  },
  {
   "cell_type": "code",
   "execution_count": 22,
   "metadata": {},
   "outputs": [],
   "source": [
    "train_lips = np.load(\"../data/parole3_bruce_en/train_lips.npy\")"
   ]
  },
  {
   "cell_type": "code",
   "execution_count": 23,
   "metadata": {},
   "outputs": [
    {
     "name": "stdout",
     "output_type": "stream",
     "text": [
      "(71000, 64, 64, 1)\n"
     ]
    }
   ],
   "source": [
    "print(train_lips.shape)"
   ]
  },
  {
   "cell_type": "code",
   "execution_count": 17,
   "metadata": {},
   "outputs": [],
   "source": [
    "from matplotlib import pyplot as plt"
   ]
  },
  {
   "cell_type": "code",
   "execution_count": 25,
   "metadata": {},
   "outputs": [
    {
     "data": {
      "text/plain": [
       "<matplotlib.image.AxesImage at 0x242b31d3608>"
      ]
     },
     "execution_count": 25,
     "metadata": {},
     "output_type": "execute_result"
    },
    {
     "data": {
      "image/png": "[encoded data removed]",
      "text/plain": [
       "<Figure size 432x288 with 1 Axes>"
      ]
     },
     "metadata": {
      "needs_background": "light"
     },
     "output_type": "display_data"
    }
   ],
   "source": [
    "plt.figure()\n",
    "plt.imshow(train_lips[0,:,:,0],'plasma')"
   ]
  },
  {
   "cell_type": "code",
   "execution_count": 26,
   "metadata": {},
   "outputs": [],
   "source": [
    "train_tongue = np.load(\"C:/Users/Pierre/Desktop/XUE_stage/data/parole3_bruce_en/train_tongue.npy\")"
   ]
  },
  {
   "cell_type": "code",
   "execution_count": 27,
   "metadata": {},
   "outputs": [
    {
     "name": "stdout",
     "output_type": "stream",
     "text": [
      "(71000, 64, 64, 1)\n"
     ]
    }
   ],
   "source": [
    "print(train_tongue.shape)"
   ]
  },
  {
   "cell_type": "code",
   "execution_count": 28,
   "metadata": {},
   "outputs": [
    {
     "data": {
      "text/plain": [
       "<matplotlib.image.AxesImage at 0x2429e649f08>"
      ]
     },
     "execution_count": 28,
     "metadata": {},
     "output_type": "execute_result"
    },
    {
     "data": {
      "image/png": "[encoded data removed]",
      "text/plain": [
       "<Figure size 432x288 with 1 Axes>"
      ]
     },
     "metadata": {
      "needs_background": "light"
     },
     "output_type": "display_data"
    }
   ],
   "source": [
    "plt.figure()\n",
    "plt.imshow(train_tongue[0,:,:,0],cmap='plasma')"
   ]
  },
  {
   "cell_type": "code",
   "execution_count": 2,
   "metadata": {},
   "outputs": [],
   "source": [
    "import librosa"
   ]
  },
  {
   "cell_type": "code",
   "execution_count": 84,
   "metadata": {},
   "outputs": [],
   "source": [
    "mel_label_train = np.load(\"../data/parole3_bruce_en/0615specparole3_2ppc735tongue_train_label.npy\")"
   ]
  },
  {
   "cell_type": "code",
   "execution_count": 85,
   "metadata": {},
   "outputs": [
    {
     "name": "stdout",
     "output_type": "stream",
     "text": [
      "(70999, 745)\n"
     ]
    }
   ],
   "source": [
    "print(mel_label_train.shape)"
   ]
  },
  {
   "cell_type": "code",
   "execution_count": 19,
   "metadata": {},
   "outputs": [],
   "source": [
    "test_sound = librosa.load(\"../data/20200616_154520_RecFile_1_bruce_ch1/RecFile_1_20200616_154520_Sound_Capture_DShow_5_monoOutput1.wav\", sr=44100)"
   ]
  },
  {
   "cell_type": "code",
   "execution_count": 32,
   "metadata": {},
   "outputs": [
    {
     "name": "stdout",
     "output_type": "stream",
     "text": [
      "167.72299319727892\n"
     ]
    }
   ],
   "source": [
    "duration = librosa.get_duration(filename=\"../data/20200616_154520_RecFile_1_bruce_ch1/RecFile_1_20200616_154520_Sound_Capture_DShow_5_monoOutput1.wav\")\n",
    "print(duration)"
   ]
  },
  {
   "cell_type": "code",
   "execution_count": 20,
   "metadata": {},
   "outputs": [
    {
     "name": "stdout",
     "output_type": "stream",
     "text": [
      "(7396584,)\n"
     ]
    }
   ],
   "source": [
    "print(test_sound[0].shape)"
   ]
  },
  {
   "cell_type": "code",
   "execution_count": 21,
   "metadata": {},
   "outputs": [
    {
     "name": "stdout",
     "output_type": "stream",
     "text": [
      "<class 'tuple'>\n"
     ]
    }
   ],
   "source": [
    "print(type(test_sound))"
   ]
  },
  {
   "cell_type": "code",
   "execution_count": 22,
   "metadata": {
    "scrolled": true
   },
   "outputs": [
    {
     "name": "stdout",
     "output_type": "stream",
     "text": [
      "[ 0.00045776  0.00012207  0.00042725 ... -0.00039673 -0.00039673\n",
      " -0.00039673]\n"
     ]
    }
   ],
   "source": [
    "print(test_sound[0])"
   ]
  },
  {
   "cell_type": "code",
   "execution_count": 23,
   "metadata": {},
   "outputs": [
    {
     "name": "stdout",
     "output_type": "stream",
     "text": [
      "44100\n"
     ]
    }
   ],
   "source": [
    "print(test_sound[1])"
   ]
  },
  {
   "cell_type": "code",
   "execution_count": 24,
   "metadata": {},
   "outputs": [],
   "source": [
    "# spectrum_signal = librosa.feature.melspectrogram(test_sound[0], sr=44100, n_fft=1470, hop_length=512, n_mels=128)\n",
    "spectrum_signal = np.abs(librosa.stft(test_sound[0],n_fft=1470, hop_length=735))\n"
   ]
  },
  {
   "cell_type": "code",
   "execution_count": 25,
   "metadata": {},
   "outputs": [
    {
     "name": "stdout",
     "output_type": "stream",
     "text": [
      "(736, 10064)\n"
     ]
    }
   ],
   "source": [
    "print(spectrum_signal.shape)"
   ]
  },
  {
   "cell_type": "code",
   "execution_count": 26,
   "metadata": {},
   "outputs": [],
   "source": [
    "y_reconstruit = librosa.griffinlim(spectrum_signal,hop_length=735, win_length=1470)"
   ]
  },
  {
   "cell_type": "code",
   "execution_count": 27,
   "metadata": {},
   "outputs": [
    {
     "name": "stdout",
     "output_type": "stream",
     "text": [
      "(7396305,)\n"
     ]
    }
   ],
   "source": [
    "print(y_reconstruit.shape)"
   ]
  },
  {
   "cell_type": "code",
   "execution_count": 28,
   "metadata": {},
   "outputs": [],
   "source": [
    "import librosa.display"
   ]
  },
  {
   "cell_type": "code",
   "execution_count": 29,
   "metadata": {
    "scrolled": false
   },
   "outputs": [
    {
     "data": {
      "image/png": "[encoded data removed]",
      "text/plain": [
       "<Figure size 432x288 with 2 Axes>"
      ]
     },
     "metadata": {
      "needs_background": "light"
     },
     "output_type": "display_data"
    }
   ],
   "source": [
    "fig, ax = plt.subplots(nrows=2, sharex=False, sharey=False)\n",
    "\n",
    "librosa.display.waveplot(test_sound[0], sr=44100, color='b', ax=ax[0])\n",
    "\n",
    "ax[0].set(title='Original', xlabel=None)\n",
    "\n",
    "ax[0].label_outer()\n",
    "\n",
    "librosa.display.waveplot(y_reconstruit, sr=44100, color='g', ax=ax[1])\n",
    "\n",
    "ax[1].set(title='Griffin-Lim reconstruction', xlabel=None)\n",
    "\n",
    "ax[1].label_outer()"
   ]
  },
  {
   "cell_type": "code",
   "execution_count": 30,
   "metadata": {},
   "outputs": [],
   "source": [
    "import soundfile as sf"
   ]
  },
  {
   "cell_type": "code",
   "execution_count": 31,
   "metadata": {},
   "outputs": [],
   "source": [
    "sf.write(\"test_reconstruit.wav\", y_reconstruit,44100)"
   ]
  },
  {
   "cell_type": "code",
   "execution_count": 44,
   "metadata": {},
   "outputs": [
    {
     "name": "stdout",
     "output_type": "stream",
     "text": [
      "(10633610,)\n",
      "241.12494331065759\n",
      "44100\n"
     ]
    }
   ],
   "source": [
    "test2 = librosa.load(\"../data/20200617_150421_RecFile_1_bruce_ch2/RecFile_1_20200617_150421_Sound_Capture_DShow_5_monoOutput1.wav\", sr=44100)\n",
    "print(test2[0].shape)  \n",
    "print(librosa.get_duration(filename=\"../data/20200617_150421_RecFile_1_bruce_ch2/RecFile_1_20200617_150421_Sound_Capture_DShow_5_monoOutput1.wav\"))\n",
    "print(librosa.get_samplerate(\"../data/20200617_150421_RecFile_1_bruce_ch2/RecFile_1_20200617_150421_Sound_Capture_DShow_5_monoOutput1.wav\"))"
   ]
  },
  {
   "cell_type": "code",
   "execution_count": 40,
   "metadata": {
    "scrolled": true
   },
   "outputs": [
    {
     "name": "stdout",
     "output_type": "stream",
     "text": [
      "44100\n",
      "(array([0.00265503, 0.00265503, 0.00299072, ..., 0.00061035, 0.00061035,\n",
      "       0.00061035], dtype=float32), 44100)\n"
     ]
    }
   ],
   "source": [
    "print(test2[1])\n",
    "print(test2)"
   ]
  },
  {
   "cell_type": "code",
   "execution_count": 49,
   "metadata": {},
   "outputs": [
    {
     "name": "stdout",
     "output_type": "stream",
     "text": [
      "(6537323,)\n",
      "148.23861678004536\n",
      "44100\n"
     ]
    }
   ],
   "source": [
    "test3 = librosa.load(\"../data/20200617_151112_RecFile_1_bruce_ch3/RecFile_1_20200617_151112_Sound_Capture_DShow_5_monoOutput1.wav\",sr=44100)\n",
    "print(test3[0].shape)\n",
    "print(librosa.get_duration(filename=\"../data/20200617_151112_RecFile_1_bruce_ch3/RecFile_1_20200617_151112_Sound_Capture_DShow_5_monoOutput1.wav\"))\n",
    "print(librosa.get_samplerate(\"../data/20200617_151112_RecFile_1_bruce_ch3/RecFile_1_20200617_151112_Sound_Capture_DShow_5_monoOutput1.wav\"))"
   ]
  },
  {
   "cell_type": "code",
   "execution_count": 55,
   "metadata": {},
   "outputs": [
    {
     "name": "stdout",
     "output_type": "stream",
     "text": [
      "(11492871,)\n",
      "260.60931972789115\n",
      "44100\n"
     ]
    }
   ],
   "source": [
    "test4 = librosa.load(\"../data/20200617_151519_RecFile_1_bruce_ch4/RecFile_1_20200617_151519_Sound_Capture_DShow_5_monoOutput1.wav\",sr=44100)\n",
    "print(test4[0].shape)\n",
    "print(librosa.get_duration(filename=\"../data/20200617_151519_RecFile_1_bruce_ch4/RecFile_1_20200617_151519_Sound_Capture_DShow_5_monoOutput1.wav\",sr=44100))\n",
    "print(librosa.get_samplerate(\"../data/20200617_151519_RecFile_1_bruce_ch4/RecFile_1_20200617_151519_Sound_Capture_DShow_5_monoOutput1.wav\"))"
   ]
  },
  {
   "cell_type": "code",
   "execution_count": 56,
   "metadata": {},
   "outputs": [
    {
     "name": "stdout",
     "output_type": "stream",
     "text": [
      "(10705045,)\n",
      "242.74478458049887\n",
      "44100\n"
     ]
    }
   ],
   "source": [
    "test5 = librosa.load(\"../data/20200617_152851_RecFile_1_bruce_ch5/RecFile_1_20200617_152851_Sound_Capture_DShow_5_monoOutput1.wav\",sr=44100)\n",
    "print(test5[0].shape)\n",
    "print(librosa.get_duration(filename=\"../data/20200617_152851_RecFile_1_bruce_ch5/RecFile_1_20200617_152851_Sound_Capture_DShow_5_monoOutput1.wav\",sr=44100))\n",
    "print(librosa.get_samplerate(\"../data/20200617_152851_RecFile_1_bruce_ch5/RecFile_1_20200617_152851_Sound_Capture_DShow_5_monoOutput1.wav\"))"
   ]
  },
  {
   "cell_type": "code",
   "execution_count": 57,
   "metadata": {},
   "outputs": [
    {
     "name": "stdout",
     "output_type": "stream",
     "text": [
      "(3806465,)\n",
      "86.31439909297052\n",
      "44100\n"
     ]
    }
   ],
   "source": [
    "test6 = librosa.load(\"../data/20200617_153450_RecFile_1_bruce_ch6/RecFile_1_20200617_153450_Sound_Capture_DShow_5_monoOutput1.wav\",sr=44100)\n",
    "print(test6[0].shape)\n",
    "print(librosa.get_duration(filename=\"../data/20200617_153450_RecFile_1_bruce_ch6/RecFile_1_20200617_153450_Sound_Capture_DShow_5_monoOutput1.wav\",sr=44100))\n",
    "print(librosa.get_samplerate(\"../data/20200617_153450_RecFile_1_bruce_ch6/RecFile_1_20200617_153450_Sound_Capture_DShow_5_monoOutput1.wav\"))"
   ]
  },
  {
   "cell_type": "code",
   "execution_count": 60,
   "metadata": {},
   "outputs": [],
   "source": [
    "sf.write(\"test6.wav\",test6[0],44100)"
   ]
  },
  {
   "cell_type": "code",
   "execution_count": null,
   "metadata": {},
   "outputs": [],
   "source": []
  }
 ],
 "metadata": {
  "kernelspec": {
   "display_name": "Python 3",
   "language": "python",
   "name": "python3"
  },
  "language_info": {
   "codemirror_mode": {
    "name": "ipython",
    "version": 3
   },
   "file_extension": ".py",
   "mimetype": "text/x-python",
   "name": "python",
   "nbconvert_exporter": "python",
   "pygments_lexer": "ipython3",
   "version": "3.7.4"
  }
 },
 "nbformat": 4,
 "nbformat_minor": 2
}
